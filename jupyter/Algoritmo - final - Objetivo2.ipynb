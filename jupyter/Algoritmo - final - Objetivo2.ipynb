{
 "cells": [
  {
   "cell_type": "code",
   "execution_count": 1,
   "id": "61d6b325",
   "metadata": {},
   "outputs": [],
   "source": [
    "import findspark\n",
    "findspark.init()"
   ]
  },
  {
   "cell_type": "code",
   "execution_count": 2,
   "id": "5f31e720",
   "metadata": {},
   "outputs": [],
   "source": [
    "import matplotlib.pyplot as plt\n",
    "import pyspark\n",
    "import numpy as np\n",
    "import pandas as pd\n",
    "from numpy import polyfit\n",
    "from pyspark.sql import SparkSession\n",
    "spark = SparkSession.builder.getOrCreate()"
   ]
  },
  {
   "cell_type": "code",
   "execution_count": 3,
   "id": "17be421b",
   "metadata": {},
   "outputs": [],
   "source": [
    "#obj2 = spark.read.csv(\"C:\\data\\FINAL-2\\objetivo2-final.csv\",header=True, inferSchema=True, nullValue=\"NA\")\n",
    "obj2=spark.read.format(\"csv\") \\\n",
    "    .option(\"quote\", \"\") \\\n",
    "    .option(\"escape\", \"\\\"\") \\\n",
    "    .option(\"header\", \"true\") \\\n",
    "    .option(\"multiLine\", \"true\") \\\n",
    "    .option(\"encoding\",\"windows-1252\") \\\n",
    "    .load(\"C:\\data\\FINAL-3\\objetivo2-final.csv\")"
   ]
  },
  {
   "cell_type": "code",
   "execution_count": 4,
   "id": "4398ac29",
   "metadata": {},
   "outputs": [
    {
     "name": "stdout",
     "output_type": "stream",
     "text": [
      "+---+---------+---------------+---------------+----+------+---------+------------+------+----+---------+-------------------+----------------------+\n",
      "| ID|  Nombres|ApellidoPaterno|ApellidoMaterno|Edad|Genero|      IMC|Departamento|  Zona|Anio|      Mes|CategoriaEnfermedad|SubcategoriaEnfermedad|\n",
      "+---+---------+---------------+---------------+----+------+---------+------------+------+----+---------+-------------------+----------------------+\n",
      "|  1|  Celinka|     Dawidowitz|        MacKill|  28|     F| OBESIDAD|       JUNÍN| RURAL|2020|NOVIEMBRE|ENFERMEDAD OBESIDAD|  ADIPOSIDAD LOCALI...|\n",
      "|  2|    Reina|         Towhey|      Tallquist|  24|     F|   NORMAL|         ICA|URBANA|2021|    MARZO|ENFERMEDAD OBESIDAD|              OBESIDAD|\n",
      "|  3|    Gerda|      Firebrace|         Harbin|  97|     F| OBESIDAD|      LORETO| RURAL|2021|DICIEMBRE|ENFERMEDAD OBESIDAD|          DISLIPIDEMIA|\n",
      "|  4|Mireielle|        Yeatman|     Braybrooks|  66|     F| OBESIDAD|  SAN MARTÍN| RURAL|2017|  FEBRERO|ENFERMEDAD OBESIDAD|  ADIPOSIDAD LOCALI...|\n",
      "|  5| Reginald|         Payley|        Larkkem|  84|     M|BAJO PESO|        PUNO| RURAL|2021|    ENERO|ENFERMEDAD OBESIDAD|       DIABETES TIPO 2|\n",
      "+---+---------+---------------+---------------+----+------+---------+------------+------+----+---------+-------------------+----------------------+\n",
      "only showing top 5 rows\n",
      "\n"
     ]
    }
   ],
   "source": [
    "obj2.show(5)"
   ]
  },
  {
   "cell_type": "markdown",
   "id": "e7ad034a",
   "metadata": {},
   "source": [
    "# Selección de datos"
   ]
  },
  {
   "cell_type": "code",
   "execution_count": 5,
   "id": "5c1bde98",
   "metadata": {},
   "outputs": [
    {
     "name": "stdout",
     "output_type": "stream",
     "text": [
      "+---------------+---------------+----+------+------------+------+----+----------+-------------------+----------------------+\n",
      "|ApellidoPaterno|ApellidoMaterno|Edad|Genero|Departamento|  Zona|Anio|       Mes|CategoriaEnfermedad|SubcategoriaEnfermedad|\n",
      "+---------------+---------------+----+------+------------+------+----+----------+-------------------+----------------------+\n",
      "|     Dawidowitz|        MacKill|  28|     F|       JUNÍN| RURAL|2020| NOVIEMBRE|ENFERMEDAD OBESIDAD|  ADIPOSIDAD LOCALI...|\n",
      "|         Towhey|      Tallquist|  24|     F|         ICA|URBANA|2021|     MARZO|ENFERMEDAD OBESIDAD|              OBESIDAD|\n",
      "|      Firebrace|         Harbin|  97|     F|      LORETO| RURAL|2021| DICIEMBRE|ENFERMEDAD OBESIDAD|          DISLIPIDEMIA|\n",
      "|        Yeatman|     Braybrooks|  66|     F|  SAN MARTÍN| RURAL|2017|   FEBRERO|ENFERMEDAD OBESIDAD|  ADIPOSIDAD LOCALI...|\n",
      "|         Payley|        Larkkem|  84|     M|        PUNO| RURAL|2021|     ENERO|ENFERMEDAD OBESIDAD|       DIABETES TIPO 2|\n",
      "|          Needs|    Brimmacombe|  35|     F|      TUMBES| RURAL|2018|SEPTIEMBRE|ENFERMEDAD OBESIDAD|          HIGADO GRASO|\n",
      "|      Fullilove|         Sicely|  23|     M|      TUMBES| RURAL|2017|   OCTUBRE|ENFERMEDAD OBESIDAD|  HIPERTENSIN ARTERIAL|\n",
      "|         Veness|         Nutten|  61|     M| LA LIBERTAD|URBANA|2016|     ENERO|ENFERMEDAD OBESIDAD|  PROBLEMAS OSTEOAR...|\n",
      "|          Hawse|          Polle|  37|     F|    APURÍMAC|URBANA|2020|     MARZO|ENFERMEDAD OBESIDAD|  ADIPOSIDAD LOCALI...|\n",
      "|           Teal|         Canedo|  82|     F|    AMAZONAS| RURAL|2018|      MAYO|ENFERMEDAD OBESIDAD|              OBESIDAD|\n",
      "+---------------+---------------+----+------+------------+------+----+----------+-------------------+----------------------+\n",
      "only showing top 10 rows\n",
      "\n",
      "+----------------------+------+------------+----------+----+--------+\n",
      "|SubcategoriaEnfermedad|  Zona|Departamento|       Mes|Anio|Cantidad|\n",
      "+----------------------+------+------------+----------+----+--------+\n",
      "|  ADIPOSIDAD LOCALI...| RURAL|       CUSCO|   OCTUBRE|2020|       2|\n",
      "|  SECUELAS DE HIPER...|URBANA|      CALLAO|      MAYO|2017|       6|\n",
      "|       DIABETES TIPO 2|URBANA|   CAJAMARCA|     ENERO|2019|       8|\n",
      "|          HIGADO GRASO| RURAL|      LORETO|     JUNIO|2016|       5|\n",
      "|  SINDROME DE APNEA...| RURAL|     HUÁNUCO|SEPTIEMBRE|2019|       4|\n",
      "|  SECUELAS DE HIPER...|URBANA| LA LIBERTAD|   FEBRERO|2020|       5|\n",
      "|          INFERTILIDAD| RURAL|       PASCO|     MARZO|2016|       9|\n",
      "|  SECUELAS DE HIPER...| RURAL| LA LIBERTAD|   FEBRERO|2021|       3|\n",
      "|  OTROS TIPOS DE HI...| RURAL|    MOQUEGUA|   OCTUBRE|2017|       6|\n",
      "|       DIABETES TIPO 2|URBANA|      ANCASH|   OCTUBRE|2020|       7|\n",
      "+----------------------+------+------------+----------+----+--------+\n",
      "only showing top 10 rows\n",
      "\n"
     ]
    }
   ],
   "source": [
    "#Objetivo 2 - Eliminando columnas\n",
    "obj2 = obj2.drop('id','Apellidos','Nombres','Categoria','IMC')\n",
    "obj2.show(10)\n",
    "\n",
    "#Objetivo 2 - Agrupacion de datos\n",
    "obj2.createOrReplaceTempView('datos')\n",
    "query = 'SELECT SubcategoriaEnfermedad, Zona, Departamento, Mes, Anio ,count(*) as Cantidad from datos \\\n",
    "            group by Departamento, Zona, SubcategoriaEnfermedad, Mes, Anio'\n",
    "obj2_final=spark.sql(query)\n",
    "obj2_final.show(10)\n"
   ]
  },
  {
   "cell_type": "markdown",
   "id": "53c11511",
   "metadata": {},
   "source": [
    "# Limpieza de datos"
   ]
  },
  {
   "cell_type": "code",
   "execution_count": 6,
   "id": "d0897e20",
   "metadata": {},
   "outputs": [
    {
     "name": "stdout",
     "output_type": "stream",
     "text": [
      "+----------------------+------+------------+----------+----+--------+\n",
      "|SubcategoriaEnfermedad|  Zona|Departamento|       Mes|Anio|Cantidad|\n",
      "+----------------------+------+------------+----------+----+--------+\n",
      "|  ADIPOSIDAD LOCALI...| RURAL|       CUSCO|   OCTUBRE|2020|       2|\n",
      "|  SECUELAS DE HIPER...|URBANA|      CALLAO|      MAYO|2017|       6|\n",
      "|       DIABETES TIPO 2|URBANA|   CAJAMARCA|     ENERO|2019|       8|\n",
      "|          HIGADO GRASO| RURAL|      LORETO|     JUNIO|2016|       5|\n",
      "|  SINDROME DE APNEA...| RURAL|     HUÁNUCO|SEPTIEMBRE|2019|       4|\n",
      "|  SECUELAS DE HIPER...|URBANA| LA LIBERTAD|   FEBRERO|2020|       5|\n",
      "|          INFERTILIDAD| RURAL|       PASCO|     MARZO|2016|       9|\n",
      "|  SECUELAS DE HIPER...| RURAL| LA LIBERTAD|   FEBRERO|2021|       3|\n",
      "|  OTROS TIPOS DE HI...| RURAL|    MOQUEGUA|   OCTUBRE|2017|       6|\n",
      "|       DIABETES TIPO 2|URBANA|      ANCASH|   OCTUBRE|2020|       7|\n",
      "+----------------------+------+------------+----------+----+--------+\n",
      "only showing top 10 rows\n",
      "\n"
     ]
    }
   ],
   "source": [
    "#Eliminando valores nulos del dataset\n",
    "obj2_final = obj2_final.dropna()\n",
    "obj2_final = obj2_final.filter('Anio != 2022')\n",
    "obj2_final = obj2_final.where((obj2.Zona == 'RURAL') | (obj2.Zona == 'URBANA'))\n",
    "obj2_final.show(10)\n"
   ]
  },
  {
   "cell_type": "markdown",
   "id": "604b8e2b",
   "metadata": {},
   "source": [
    "# Integración de datos"
   ]
  },
  {
   "cell_type": "code",
   "execution_count": 8,
   "id": "2ed684ae",
   "metadata": {},
   "outputs": [],
   "source": [
    "from pyspark.ml.feature import StringIndexer, VectorAssembler"
   ]
  },
  {
   "cell_type": "code",
   "execution_count": 9,
   "id": "530282f4",
   "metadata": {},
   "outputs": [],
   "source": [
    "obj2_final = StringIndexer(inputCol='SubcategoriaEnfermedad', outputCol= 'subcat_idx').fit(obj2_final).transform(obj2_final)\n",
    "obj2_final = StringIndexer(inputCol='Zona', outputCol= 'zona_idx').fit(obj2_final).transform(obj2_final)\n",
    "obj2_final = StringIndexer(inputCol='Departamento', outputCol= 'dpto_idx').fit(obj2_final).transform(obj2_final)\n",
    "obj2_final = StringIndexer(inputCol='Mes', outputCol= 'mes_idx').fit(obj2_final).transform(obj2_final)\n",
    "obj2_final = StringIndexer(inputCol='Anio', outputCol= 'anio_idx').fit(obj2_final).transform(obj2_final)\n"
   ]
  },
  {
   "cell_type": "code",
   "execution_count": 10,
   "id": "ae6ac95e",
   "metadata": {},
   "outputs": [
    {
     "name": "stdout",
     "output_type": "stream",
     "text": [
      "+----------------------+------+------------+----------+----+--------+----------+--------+--------+-------+--------+\n",
      "|SubcategoriaEnfermedad|  Zona|Departamento|       Mes|Anio|Cantidad|subcat_idx|zona_idx|dpto_idx|mes_idx|anio_idx|\n",
      "+----------------------+------+------------+----------+----+--------+----------+--------+--------+-------+--------+\n",
      "|  ADIPOSIDAD LOCALI...| RURAL|       CUSCO|   OCTUBRE|2020|       2|       0.0|     1.0|     9.0|    1.0|     3.0|\n",
      "|  SECUELAS DE HIPER...|URBANA|      CALLAO|      MAYO|2017|       6|       7.0|     0.0|     3.0|    5.0|     0.0|\n",
      "|       DIABETES TIPO 2|URBANA|   CAJAMARCA|     ENERO|2019|       8|       1.0|     0.0|     6.0|   11.0|     2.0|\n",
      "|          HIGADO GRASO| RURAL|      LORETO|     JUNIO|2016|       5|      10.0|     1.0|    21.0|    8.0|     1.0|\n",
      "|  SINDROME DE APNEA...| RURAL|     HUÁNUCO|SEPTIEMBRE|2019|       4|       8.0|     1.0|     7.0|    4.0|     2.0|\n",
      "|  SECUELAS DE HIPER...|URBANA| LA LIBERTAD|   FEBRERO|2020|       5|       7.0|     0.0|    16.0|    2.0|     3.0|\n",
      "|          INFERTILIDAD| RURAL|       PASCO|     MARZO|2016|       9|       9.0|     1.0|    20.0|    9.0|     1.0|\n",
      "|  SECUELAS DE HIPER...| RURAL| LA LIBERTAD|   FEBRERO|2021|       3|       7.0|     1.0|    16.0|    2.0|     5.0|\n",
      "|  OTROS TIPOS DE HI...| RURAL|    MOQUEGUA|   OCTUBRE|2017|       6|       5.0|     1.0|     1.0|    1.0|     0.0|\n",
      "|       DIABETES TIPO 2|URBANA|      ANCASH|   OCTUBRE|2020|       7|       1.0|     0.0|    13.0|    1.0|     3.0|\n",
      "+----------------------+------+------------+----------+----+--------+----------+--------+--------+-------+--------+\n",
      "only showing top 10 rows\n",
      "\n"
     ]
    }
   ],
   "source": [
    "obj2_final.show(10)"
   ]
  },
  {
   "cell_type": "code",
   "execution_count": 11,
   "id": "e456ed38",
   "metadata": {},
   "outputs": [],
   "source": [
    "assembler = VectorAssembler(inputCols = ['subcat_idx','zona_idx','dpto_idx','mes_idx','anio_idx'],outputCol='features' )\n",
    "obj2_final= assembler.transform(obj2_final)"
   ]
  },
  {
   "cell_type": "code",
   "execution_count": 12,
   "id": "9a555b48",
   "metadata": {},
   "outputs": [
    {
     "name": "stdout",
     "output_type": "stream",
     "text": [
      "+----------------------+------+------------+----------+----+--------+----------+--------+--------+-------+--------+--------------------+-----+\n",
      "|SubcategoriaEnfermedad|  Zona|Departamento|       Mes|Anio|Cantidad|subcat_idx|zona_idx|dpto_idx|mes_idx|anio_idx|            features|label|\n",
      "+----------------------+------+------------+----------+----+--------+----------+--------+--------+-------+--------+--------------------+-----+\n",
      "|  ADIPOSIDAD LOCALI...| RURAL|       CUSCO|   OCTUBRE|2020|       2|       0.0|     1.0|     9.0|    1.0|     3.0|[0.0,1.0,9.0,1.0,...|    2|\n",
      "|  SECUELAS DE HIPER...|URBANA|      CALLAO|      MAYO|2017|       6|       7.0|     0.0|     3.0|    5.0|     0.0|[7.0,0.0,3.0,5.0,...|    6|\n",
      "|       DIABETES TIPO 2|URBANA|   CAJAMARCA|     ENERO|2019|       8|       1.0|     0.0|     6.0|   11.0|     2.0|[1.0,0.0,6.0,11.0...|    8|\n",
      "|          HIGADO GRASO| RURAL|      LORETO|     JUNIO|2016|       5|      10.0|     1.0|    21.0|    8.0|     1.0|[10.0,1.0,21.0,8....|    5|\n",
      "|  SINDROME DE APNEA...| RURAL|     HUÁNUCO|SEPTIEMBRE|2019|       4|       8.0|     1.0|     7.0|    4.0|     2.0|[8.0,1.0,7.0,4.0,...|    4|\n",
      "|  SECUELAS DE HIPER...|URBANA| LA LIBERTAD|   FEBRERO|2020|       5|       7.0|     0.0|    16.0|    2.0|     3.0|[7.0,0.0,16.0,2.0...|    5|\n",
      "|          INFERTILIDAD| RURAL|       PASCO|     MARZO|2016|       9|       9.0|     1.0|    20.0|    9.0|     1.0|[9.0,1.0,20.0,9.0...|    9|\n",
      "|  SECUELAS DE HIPER...| RURAL| LA LIBERTAD|   FEBRERO|2021|       3|       7.0|     1.0|    16.0|    2.0|     5.0|[7.0,1.0,16.0,2.0...|    3|\n",
      "|  OTROS TIPOS DE HI...| RURAL|    MOQUEGUA|   OCTUBRE|2017|       6|       5.0|     1.0|     1.0|    1.0|     0.0|[5.0,1.0,1.0,1.0,...|    6|\n",
      "|       DIABETES TIPO 2|URBANA|      ANCASH|   OCTUBRE|2020|       7|       1.0|     0.0|    13.0|    1.0|     3.0|[1.0,0.0,13.0,1.0...|    7|\n",
      "+----------------------+------+------------+----------+----+--------+----------+--------+--------+-------+--------+--------------------+-----+\n",
      "only showing top 10 rows\n",
      "\n"
     ]
    }
   ],
   "source": [
    "obj2_final = obj2_final.withColumn(\"label\", obj2_final[\"Cantidad\"])\n",
    "obj2_final.show(10)"
   ]
  },
  {
   "cell_type": "code",
   "execution_count": 13,
   "id": "84f9f574",
   "metadata": {},
   "outputs": [],
   "source": [
    "obj2_train, obj2_test = obj2_final.randomSplit([0.8, 0.2], seed=23)"
   ]
  },
  {
   "cell_type": "markdown",
   "id": "6b37c256",
   "metadata": {},
   "source": [
    "# Aplicación del modelo del algortimo"
   ]
  },
  {
   "cell_type": "code",
   "execution_count": 14,
   "id": "dad03290",
   "metadata": {},
   "outputs": [],
   "source": [
    "from pyspark.ml.regression import LinearRegression\n",
    "lr = LinearRegression()\n",
    "regresion_model = lr.fit(obj2_train)"
   ]
  },
  {
   "cell_type": "code",
   "execution_count": 15,
   "id": "74178ef6",
   "metadata": {},
   "outputs": [
    {
     "name": "stdout",
     "output_type": "stream",
     "text": [
      "+-----------------------+-----+-----------------+\n",
      "|features               |label|prediction       |\n",
      "+-----------------------+-----+-----------------+\n",
      "|[0.0,1.0,17.0,6.0,1.0] |6    |4.982421879595507|\n",
      "|(5,[1,2],[1.0,17.0])   |4    |4.959633983275003|\n",
      "|[0.0,1.0,17.0,0.0,4.0] |7    |4.952056363186445|\n",
      "|[0.0,1.0,17.0,0.0,5.0] |7    |4.950161958164306|\n",
      "|[0.0,1.0,17.0,11.0,5.0]|6    |4.995412843959153|\n",
      "+-----------------------+-----+-----------------+\n",
      "only showing top 5 rows\n",
      "\n"
     ]
    }
   ],
   "source": [
    "prediction = regresion_model.transform(obj2_test)\n",
    "prediction.select(\"features\",\"label\",\"prediction\").show(5,False)"
   ]
  },
  {
   "cell_type": "code",
   "execution_count": 16,
   "id": "ecd3a605",
   "metadata": {},
   "outputs": [
    {
     "name": "stdout",
     "output_type": "stream",
     "text": [
      "Coefficients: [-0.0027749507010601067,-0.014739271361511527,-0.0019226237261641835,0.0041137168904407115,-0.0018944050221393707]\n",
      "Intercept: 5.007057857981305\n"
     ]
    }
   ],
   "source": [
    "print(\"Coefficients: \" + str(regresion_model.coefficients))\n",
    "print(\"Intercept: \" + str(regresion_model.intercept))"
   ]
  },
  {
   "cell_type": "code",
   "execution_count": 18,
   "id": "25027669",
   "metadata": {},
   "outputs": [
    {
     "name": "stdout",
     "output_type": "stream",
     "text": [
      "+----------------------+-----+------------+-------+----+--------+----------+--------+--------+-------+--------+-----+-----------------+\n",
      "|SubcategoriaEnfermedad| Zona|Departamento|    Mes|Anio|Cantidad|subcat_idx|zona_idx|dpto_idx|mes_idx|anio_idx|label|       prediction|\n",
      "+----------------------+-----+------------+-------+----+--------+----------+--------+--------+-------+--------+-----+-----------------+\n",
      "|  ADIPOSIDAD LOCALI...|RURAL|    AMAZONAS|  ABRIL|2016|       6|       0.0|     1.0|    17.0|    6.0|     1.0|    6|4.982421879595507|\n",
      "|  ADIPOSIDAD LOCALI...|RURAL|    AMAZONAS| AGOSTO|2017|       4|       0.0|     1.0|    17.0|    0.0|     0.0|    4|4.959633983275003|\n",
      "|  ADIPOSIDAD LOCALI...|RURAL|    AMAZONAS| AGOSTO|2018|       7|       0.0|     1.0|    17.0|    0.0|     4.0|    7|4.952056363186445|\n",
      "|  ADIPOSIDAD LOCALI...|RURAL|    AMAZONAS| AGOSTO|2021|       7|       0.0|     1.0|    17.0|    0.0|     5.0|    7|4.950161958164306|\n",
      "|  ADIPOSIDAD LOCALI...|RURAL|    AMAZONAS|  ENERO|2021|       6|       0.0|     1.0|    17.0|   11.0|     5.0|    6|4.995412843959153|\n",
      "|  ADIPOSIDAD LOCALI...|RURAL|    AMAZONAS|FEBRERO|2019|       1|       0.0|     1.0|    17.0|    2.0|     2.0|    1|4.964072607011605|\n",
      "|  ADIPOSIDAD LOCALI...|RURAL|    AMAZONAS|FEBRERO|2020|       6|       0.0|     1.0|    17.0|    2.0|     3.0|    6|4.962178201989466|\n",
      "|  ADIPOSIDAD LOCALI...|RURAL|    AMAZONAS|  JUNIO|2017|       6|       0.0|     1.0|    17.0|    8.0|     0.0|    6|4.992543718398529|\n",
      "|  ADIPOSIDAD LOCALI...|RURAL|    AMAZONAS|  JUNIO|2019|       7|       0.0|     1.0|    17.0|    8.0|     2.0|    7| 4.98875490835425|\n",
      "|  ADIPOSIDAD LOCALI...|RURAL|    AMAZONAS|  MARZO|2019|       6|       0.0|     1.0|    17.0|    9.0|     2.0|    6| 4.99286862524469|\n",
      "+----------------------+-----+------------+-------+----+--------+----------+--------+--------+-------+--------+-----+-----------------+\n",
      "only showing top 10 rows\n",
      "\n"
     ]
    }
   ],
   "source": [
    "from pyspark.sql.functions import round\n",
    "#Exportar datos pronosticados\n",
    "\n",
    "df_prediction=prediction.drop('features')\n",
    "df_prediction.show(10)\n",
    "df_prediction.coalesce(1).write.option('header',True).csv('prediccion_2.csv')\n"
   ]
  },
  {
   "cell_type": "markdown",
   "id": "aa85c126",
   "metadata": {},
   "source": [
    "# Evaluación del modelo de algoritmo"
   ]
  },
  {
   "cell_type": "code",
   "execution_count": 19,
   "id": "8d593365",
   "metadata": {},
   "outputs": [
    {
     "name": "stdout",
     "output_type": "stream",
     "text": [
      "-0.00031422430740501994\n",
      "4.90581658817532\n",
      "2.2149078057958347\n",
      "1.7381515664296157\n"
     ]
    }
   ],
   "source": [
    "from pyspark.ml.evaluation import RegressionEvaluator\n",
    "\n",
    "#Evaluando al modelo con las metricas de R cuadrado , Error cuadratico medio (MSE), Error absoluto medio(MAE), Raiz del error cuadratico medio(RMSE)\n",
    "#MSE: Promedio de la diferencia cuadratica entre los valores original y pronosticado\n",
    "#MAE: Promedio absoluto de la diferencia absoluta entre los valores reales y pronosticados\n",
    "#RMSE: Mide la desviacion estandar de los residuos\n",
    "#R2: Proporcion de la varianza en la variable dependiente que es explicada por el modelo de regresion lineal (siempre < 1)\n",
    "\n",
    "evaluator = RegressionEvaluator()\n",
    "print(evaluator.evaluate(prediction,\n",
    "{evaluator.metricName: \"r2\"})\n",
    ")\n",
    "print(evaluator.evaluate(prediction,\n",
    "{evaluator.metricName: \"mse\"})\n",
    ")\n",
    "print(evaluator.evaluate(prediction,\n",
    "{evaluator.metricName: \"rmse\"})\n",
    ")\n",
    "print(evaluator.evaluate(prediction,\n",
    "{evaluator.metricName: \"mae\"})\n",
    ")"
   ]
  },
  {
   "cell_type": "code",
   "execution_count": null,
   "id": "c594dbcb",
   "metadata": {},
   "outputs": [],
   "source": []
  }
 ],
 "metadata": {
  "kernelspec": {
   "display_name": "Python 3 (ipykernel)",
   "language": "python",
   "name": "python3"
  },
  "language_info": {
   "codemirror_mode": {
    "name": "ipython",
    "version": 3
   },
   "file_extension": ".py",
   "mimetype": "text/x-python",
   "name": "python",
   "nbconvert_exporter": "python",
   "pygments_lexer": "ipython3",
   "version": "3.9.12"
  }
 },
 "nbformat": 4,
 "nbformat_minor": 5
}
