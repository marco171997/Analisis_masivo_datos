{
 "cells": [
  {
   "cell_type": "code",
   "execution_count": 12,
   "metadata": {},
   "outputs": [],
   "source": [
    "import findspark\n",
    "findspark.init()"
   ]
  },
  {
   "cell_type": "code",
   "execution_count": 13,
   "metadata": {},
   "outputs": [],
   "source": [
    "import pyspark\n",
    "from pyspark.sql import SparkSession\n",
    "spark = SparkSession.builder.getOrCreate()"
   ]
  },
  {
   "cell_type": "code",
   "execution_count": 14,
   "metadata": {},
   "outputs": [],
   "source": [
    "#obj3 = spark.read.csv(\"C:\\data\\FINAL-2\\objetivo3-final.csv\",header=True, inferSchema=True, nullValue=\"NA\")\n",
    "obj3=spark.read.format(\"csv\") \\\n",
    "    .option(\"quote\", \"\") \\\n",
    "    .option(\"escape\", \"\\\"\") \\\n",
    "    .option(\"header\", \"true\") \\\n",
    "    .option(\"multiLine\", \"true\") \\\n",
    "    .option(\"encoding\",\"windows-1252\") \\\n",
    "    .load(\"C:\\data\\FINAL-3\\objetivo3-final.csv\")"
   ]
  },
  {
   "cell_type": "markdown",
   "metadata": {},
   "source": [
    "# Selección de datos"
   ]
  },
  {
   "cell_type": "code",
   "execution_count": 15,
   "metadata": {},
   "outputs": [
    {
     "name": "stdout",
     "output_type": "stream",
     "text": [
      "+----+-------------------+------------------+-----------------+----------------------+\n",
      "|Edad|AntecedentesFamilia|RangoGrasaVisceral|AdiccionDepresora|SubcategoriaEnfermedad|\n",
      "+----+-------------------+------------------+-----------------+----------------------+\n",
      "|  25|                 NO|         SALUDABLE|DROGA ALUCINOGENA|  I26 - EMBOLIA PUL...|\n",
      "|  52|                 NO|         PELIGROSO|          NINGUNO|  I21 - INFARTO AGU...|\n",
      "|  49|                 NO|         PELIGROSO|          ALCOHOL|  I06 - ENFERMEDADE...|\n",
      "|  61|                 NO|         SALUDABLE|          NINGUNO|  I34 - TRASTORNOS ...|\n",
      "|  38|                 NO|         PELIGROSO|          ALCOHOL|  I06 - ENFERMEDADE...|\n",
      "|  22|                 NO|         SALUDABLE|       TABAQUISMO|   VALVULA NO ESPEC...|\n",
      "|  17|                 NO|         PELIGROSO|          NINGUNO|  I66 - OCLUSION Y ...|\n",
      "|  89|                 SI|         SALUDABLE|          ALCOHOL|   I46 - PARO CARDIACO|\n",
      "|  76|                 NO|         SALUDABLE|DROGA ALUCINOGENA|  I32 - PERICARDITI...|\n",
      "|  28|                 SI|         SALUDABLE|          ALCOHOL|  I37 - TRASTORNOS ...|\n",
      "+----+-------------------+------------------+-----------------+----------------------+\n",
      "only showing top 10 rows\n",
      "\n"
     ]
    }
   ],
   "source": [
    "#Objetivo 1 - Eliminando columnas\n",
    "obj3 = obj3.drop('id','ApellidoPaterno','ApellidoMaterno','Nombres','CategoriaEnfermedad', 'Peso', 'Talla','Departamento','Zona','Mes','Anio')\n",
    "obj3.show(10)"
   ]
  },
  {
   "cell_type": "markdown",
   "metadata": {},
   "source": [
    "# Limpieza de datos"
   ]
  },
  {
   "cell_type": "code",
   "execution_count": 16,
   "metadata": {},
   "outputs": [
    {
     "name": "stdout",
     "output_type": "stream",
     "text": [
      "+----+-------------------+------------------+-----------------+----------------------+\n",
      "|Edad|AntecedentesFamilia|RangoGrasaVisceral|AdiccionDepresora|SubcategoriaEnfermedad|\n",
      "+----+-------------------+------------------+-----------------+----------------------+\n",
      "|  25|                 NO|         SALUDABLE|DROGA ALUCINOGENA|  I26 - EMBOLIA PUL...|\n",
      "|  22|                 NO|         SALUDABLE|       TABAQUISMO|   VALVULA NO ESPEC...|\n",
      "|  76|                 NO|         SALUDABLE|DROGA ALUCINOGENA|  I32 - PERICARDITI...|\n",
      "|  55|                 NO|         SALUDABLE|DROGA ALUCINOGENA|  I64 - ACCIDENTE V...|\n",
      "|  17|                 SI|         PELIGROSO|DROGA ALUCINOGENA|  I87 - OTROS TRAST...|\n",
      "|  84|                 SI|         PELIGROSO|       TABAQUISMO|  I36 - TRASTORNOS ...|\n",
      "|  61|                 SI|         PELIGROSO|       TABAQUISMO|  I34 - TRASTORNOS ...|\n",
      "|  75|                 NO|         SALUDABLE|       TABAQUISMO|  I85 - VARICES ESO...|\n",
      "|  45|                 NO|         SALUDABLE|DROGA ALUCINOGENA|  I72 - OTROS ANEUR...|\n",
      "|  63|                 NO|         SALUDABLE|       TABAQUISMO|  I51 - COMPLICACIO...|\n",
      "+----+-------------------+------------------+-----------------+----------------------+\n",
      "only showing top 10 rows\n",
      "\n"
     ]
    },
    {
     "data": {
      "text/plain": [
       "57676"
      ]
     },
     "execution_count": 16,
     "metadata": {},
     "output_type": "execute_result"
    }
   ],
   "source": [
    "#Eliminando valores que no corresponden del dataset\n",
    "obj3 = obj3.dropna()\n",
    "obj3 = obj3.filter('Edad > 0')\n",
    "obj3 = obj3.where((obj3.AdiccionDepresora == 'NINGUNA') | (obj3.AdiccionDepresora == 'TABAQUISMO') | (obj3.AdiccionDepresora == 'DROGA ALUCINOGENA'))\n",
    "obj3 = obj3.where((obj3.RangoGrasaVisceral == 'SALUDABLE') | (obj3.RangoGrasaVisceral == 'PELIGROSO'))\n",
    "obj3.show(10)"
   ]
  },
  {
   "cell_type": "markdown",
   "metadata": {},
   "source": [
    "# Integración de datos"
   ]
  },
  {
   "cell_type": "code",
   "execution_count": 17,
   "metadata": {},
   "outputs": [],
   "source": [
    "from pyspark.ml.feature import StringIndexer\n",
    "\n",
    "obj3 = StringIndexer(inputCol='AntecedentesFamilia', outputCol= 'ant_idx').fit(obj3).transform(obj3)\n",
    "obj3 = StringIndexer(inputCol='RangoGrasaVisceral', outputCol= 'rgb_idx').fit(obj3).transform(obj3)\n",
    "obj3 = StringIndexer(inputCol='AdiccionDepresora', outputCol= 'adc_idx').fit(obj3).transform(obj3)\n",
    "obj3 = StringIndexer(inputCol='Edad', outputCol= 'edad_idx').fit(obj3).transform(obj3)\n"
   ]
  },
  {
   "cell_type": "code",
   "execution_count": 18,
   "metadata": {},
   "outputs": [
    {
     "name": "stdout",
     "output_type": "stream",
     "text": [
      "+----+-------------------+------------------+-----------------+----------------------+-------+-------+-------+--------+\n",
      "|Edad|AntecedentesFamilia|RangoGrasaVisceral|AdiccionDepresora|SubcategoriaEnfermedad|ant_idx|rgb_idx|adc_idx|edad_idx|\n",
      "+----+-------------------+------------------+-----------------+----------------------+-------+-------+-------+--------+\n",
      "|  25|                 NO|         SALUDABLE|DROGA ALUCINOGENA|  I26 - EMBOLIA PUL...|    1.0|    1.0|    0.0|    55.0|\n",
      "|  22|                 NO|         SALUDABLE|       TABAQUISMO|   VALVULA NO ESPEC...|    1.0|    1.0|    1.0|    82.0|\n",
      "|  76|                 NO|         SALUDABLE|DROGA ALUCINOGENA|  I32 - PERICARDITI...|    1.0|    1.0|    0.0|    53.0|\n",
      "|  55|                 NO|         SALUDABLE|DROGA ALUCINOGENA|  I64 - ACCIDENTE V...|    1.0|    1.0|    0.0|    46.0|\n",
      "|  17|                 SI|         PELIGROSO|DROGA ALUCINOGENA|  I87 - OTROS TRAST...|    0.0|    0.0|    0.0|    26.0|\n",
      "|  84|                 SI|         PELIGROSO|       TABAQUISMO|  I36 - TRASTORNOS ...|    0.0|    0.0|    1.0|    63.0|\n",
      "|  61|                 SI|         PELIGROSO|       TABAQUISMO|  I34 - TRASTORNOS ...|    0.0|    0.0|    1.0|    73.0|\n",
      "|  75|                 NO|         SALUDABLE|       TABAQUISMO|  I85 - VARICES ESO...|    1.0|    1.0|    1.0|    52.0|\n",
      "|  45|                 NO|         SALUDABLE|DROGA ALUCINOGENA|  I72 - OTROS ANEUR...|    1.0|    1.0|    0.0|    77.0|\n",
      "|  63|                 NO|         SALUDABLE|       TABAQUISMO|  I51 - COMPLICACIO...|    1.0|    1.0|    1.0|    33.0|\n",
      "+----+-------------------+------------------+-----------------+----------------------+-------+-------+-------+--------+\n",
      "only showing top 10 rows\n",
      "\n"
     ]
    }
   ],
   "source": [
    "obj3.show(10)"
   ]
  },
  {
   "cell_type": "code",
   "execution_count": 19,
   "metadata": {},
   "outputs": [
    {
     "name": "stdout",
     "output_type": "stream",
     "text": [
      "+----+-------------------+------------------+-----------------+----------------------+-------+-------+-------+--------+-----+\n",
      "|Edad|AntecedentesFamilia|RangoGrasaVisceral|AdiccionDepresora|SubcategoriaEnfermedad|ant_idx|rgb_idx|adc_idx|edad_idx|label|\n",
      "+----+-------------------+------------------+-----------------+----------------------+-------+-------+-------+--------+-----+\n",
      "|  25|                 NO|         SALUDABLE|DROGA ALUCINOGENA|  I26 - EMBOLIA PUL...|    1.0|    1.0|    0.0|    55.0| 27.0|\n",
      "|  22|                 NO|         SALUDABLE|       TABAQUISMO|   VALVULA NO ESPEC...|    1.0|    1.0|    1.0|    82.0| 55.0|\n",
      "|  76|                 NO|         SALUDABLE|DROGA ALUCINOGENA|  I32 - PERICARDITI...|    1.0|    1.0|    0.0|    53.0| 50.0|\n",
      "|  55|                 NO|         SALUDABLE|DROGA ALUCINOGENA|  I64 - ACCIDENTE V...|    1.0|    1.0|    0.0|    46.0| 14.0|\n",
      "|  17|                 SI|         PELIGROSO|DROGA ALUCINOGENA|  I87 - OTROS TRAST...|    0.0|    0.0|    0.0|    26.0| 20.0|\n",
      "|  84|                 SI|         PELIGROSO|       TABAQUISMO|  I36 - TRASTORNOS ...|    0.0|    0.0|    1.0|    63.0|  0.0|\n",
      "|  61|                 SI|         PELIGROSO|       TABAQUISMO|  I34 - TRASTORNOS ...|    0.0|    0.0|    1.0|    73.0| 64.0|\n",
      "|  75|                 NO|         SALUDABLE|       TABAQUISMO|  I85 - VARICES ESO...|    1.0|    1.0|    1.0|    52.0| 21.0|\n",
      "|  45|                 NO|         SALUDABLE|DROGA ALUCINOGENA|  I72 - OTROS ANEUR...|    1.0|    1.0|    0.0|    77.0| 33.0|\n",
      "|  63|                 NO|         SALUDABLE|       TABAQUISMO|  I51 - COMPLICACIO...|    1.0|    1.0|    1.0|    33.0| 61.0|\n",
      "+----+-------------------+------------------+-----------------+----------------------+-------+-------+-------+--------+-----+\n",
      "only showing top 10 rows\n",
      "\n"
     ]
    }
   ],
   "source": [
    "obj3 = StringIndexer(inputCol='SubcategoriaEnfermedad', outputCol= 'label').fit(obj3).transform(obj3)\n",
    "obj3.show(10)"
   ]
  },
  {
   "cell_type": "code",
   "execution_count": 20,
   "metadata": {},
   "outputs": [],
   "source": [
    "from pyspark.ml.feature import VectorAssembler\n",
    "\n",
    "assembler = VectorAssembler(inputCols = ['ant_idx','rgb_idx','adc_idx','edad_idx'],outputCol='features' )\n",
    "obj3 = assembler.transform(obj3)"
   ]
  },
  {
   "cell_type": "code",
   "execution_count": 21,
   "metadata": {},
   "outputs": [
    {
     "name": "stdout",
     "output_type": "stream",
     "text": [
      "+----+-------------------+------------------+-----------------+----------------------+-------+-------+-------+--------+-----+------------------+\n",
      "|Edad|AntecedentesFamilia|RangoGrasaVisceral|AdiccionDepresora|SubcategoriaEnfermedad|ant_idx|rgb_idx|adc_idx|edad_idx|label|          features|\n",
      "+----+-------------------+------------------+-----------------+----------------------+-------+-------+-------+--------+-----+------------------+\n",
      "|  25|                 NO|         SALUDABLE|DROGA ALUCINOGENA|  I26 - EMBOLIA PUL...|    1.0|    1.0|    0.0|    55.0| 27.0|[1.0,1.0,0.0,55.0]|\n",
      "|  22|                 NO|         SALUDABLE|       TABAQUISMO|   VALVULA NO ESPEC...|    1.0|    1.0|    1.0|    82.0| 55.0|[1.0,1.0,1.0,82.0]|\n",
      "|  76|                 NO|         SALUDABLE|DROGA ALUCINOGENA|  I32 - PERICARDITI...|    1.0|    1.0|    0.0|    53.0| 50.0|[1.0,1.0,0.0,53.0]|\n",
      "|  55|                 NO|         SALUDABLE|DROGA ALUCINOGENA|  I64 - ACCIDENTE V...|    1.0|    1.0|    0.0|    46.0| 14.0|[1.0,1.0,0.0,46.0]|\n",
      "|  17|                 SI|         PELIGROSO|DROGA ALUCINOGENA|  I87 - OTROS TRAST...|    0.0|    0.0|    0.0|    26.0| 20.0|    (4,[3],[26.0])|\n",
      "|  84|                 SI|         PELIGROSO|       TABAQUISMO|  I36 - TRASTORNOS ...|    0.0|    0.0|    1.0|    63.0|  0.0|[0.0,0.0,1.0,63.0]|\n",
      "|  61|                 SI|         PELIGROSO|       TABAQUISMO|  I34 - TRASTORNOS ...|    0.0|    0.0|    1.0|    73.0| 64.0|[0.0,0.0,1.0,73.0]|\n",
      "|  75|                 NO|         SALUDABLE|       TABAQUISMO|  I85 - VARICES ESO...|    1.0|    1.0|    1.0|    52.0| 21.0|[1.0,1.0,1.0,52.0]|\n",
      "|  45|                 NO|         SALUDABLE|DROGA ALUCINOGENA|  I72 - OTROS ANEUR...|    1.0|    1.0|    0.0|    77.0| 33.0|[1.0,1.0,0.0,77.0]|\n",
      "|  63|                 NO|         SALUDABLE|       TABAQUISMO|  I51 - COMPLICACIO...|    1.0|    1.0|    1.0|    33.0| 61.0|[1.0,1.0,1.0,33.0]|\n",
      "+----+-------------------+------------------+-----------------+----------------------+-------+-------+-------+--------+-----+------------------+\n",
      "only showing top 10 rows\n",
      "\n"
     ]
    }
   ],
   "source": [
    "obj3.show(10)"
   ]
  },
  {
   "cell_type": "code",
   "execution_count": 22,
   "metadata": {},
   "outputs": [
    {
     "data": {
      "text/plain": [
       "[46216, 11460]"
      ]
     },
     "execution_count": 22,
     "metadata": {},
     "output_type": "execute_result"
    }
   ],
   "source": [
    "obj3_train, obj3_test = obj3.randomSplit([0.8, 0.2], seed=23)\n",
    "[obj3_train.count(), obj3_test.count()]"
   ]
  },
  {
   "cell_type": "markdown",
   "metadata": {},
   "source": [
    "# Aplicación del modelo de algoritmo"
   ]
  },
  {
   "cell_type": "code",
   "execution_count": 23,
   "metadata": {},
   "outputs": [],
   "source": [
    "#Regresión logistica Clasificador\n",
    "from pyspark.ml.classification import LogisticRegression\n",
    "lr = LogisticRegression(featuresCol = 'features', labelCol = 'label')\n",
    "lr_model = lr.fit(obj3_train)"
   ]
  },
  {
   "cell_type": "code",
   "execution_count": 24,
   "metadata": {},
   "outputs": [
    {
     "name": "stdout",
     "output_type": "stream",
     "text": [
      "+-----+----------+--------------------+\n",
      "|label|prediction|         probability|\n",
      "+-----+----------+--------------------+\n",
      "| 22.0|      14.0|[0.01378457861968...|\n",
      "| 43.0|      14.0|[0.01378457861968...|\n",
      "| 51.0|      14.0|[0.01378457861968...|\n",
      "| 78.0|      14.0|[0.01378457861968...|\n",
      "| 71.0|      14.0|[0.01378457861968...|\n",
      "+-----+----------+--------------------+\n",
      "only showing top 5 rows\n",
      "\n",
      "+-----+----------+-----+\n",
      "|label|prediction|count|\n",
      "+-----+----------+-----+\n",
      "| 66.0|       5.0|   32|\n",
      "| 76.0|      10.0|    6|\n",
      "| 40.0|       2.0|    6|\n",
      "| 65.0|      20.0|    6|\n",
      "| 51.0|      20.0|    7|\n",
      "| 64.0|       5.0|   29|\n",
      "| 76.0|      13.0|    9|\n",
      "| 68.0|      11.0|    2|\n",
      "| 38.0|       1.0|    4|\n",
      "| 40.0|      10.0|    7|\n",
      "| 34.0|       2.0|    9|\n",
      "| 42.0|      23.0|   10|\n",
      "| 19.0|       5.0|   29|\n",
      "| 32.0|       4.0|    5|\n",
      "| 80.0|       6.0|   10|\n",
      "| 29.0|      75.0|    4|\n",
      "|  6.0|      50.0|    3|\n",
      "| 62.0|       0.0|    3|\n",
      "| 17.0|      23.0|    4|\n",
      "| 49.0|      24.0|    1|\n",
      "+-----+----------+-----+\n",
      "only showing top 20 rows\n",
      "\n",
      "+----+-------------------+------------------+-----------------+----------------------+-------+-------+-------+--------+-----+------------------+--------------------+--------------------+----------+\n",
      "|Edad|AntecedentesFamilia|RangoGrasaVisceral|AdiccionDepresora|SubcategoriaEnfermedad|ant_idx|rgb_idx|adc_idx|edad_idx|label|          features|       rawPrediction|         probability|prediction|\n",
      "+----+-------------------+------------------+-----------------+----------------------+-------+-------+-------+--------+-----+------------------+--------------------+--------------------+----------+\n",
      "| 100|                 NO|         PELIGROSO|DROGA ALUCINOGENA|   DE LAS ARTERIOLA...|    1.0|    0.0|    0.0|    25.0| 22.0|[1.0,0.0,0.0,25.0]|[0.11453396002384...|[0.01378457861968...|      14.0|\n",
      "| 100|                 NO|         PELIGROSO|DROGA ALUCINOGENA|  I00 - FIEBRE REUM...|    1.0|    0.0|    0.0|    25.0| 43.0|[1.0,0.0,0.0,25.0]|[0.11453396002384...|[0.01378457861968...|      14.0|\n",
      "| 100|                 NO|         PELIGROSO|DROGA ALUCINOGENA|  I01 - FIEBRE REUM...|    1.0|    0.0|    0.0|    25.0| 51.0|[1.0,0.0,0.0,25.0]|[0.11453396002384...|[0.01378457861968...|      14.0|\n",
      "| 100|                 NO|         PELIGROSO|DROGA ALUCINOGENA|  I05 - ENFERMEDADE...|    1.0|    0.0|    0.0|    25.0| 78.0|[1.0,0.0,0.0,25.0]|[0.11453396002384...|[0.01378457861968...|      14.0|\n",
      "| 100|                 NO|         PELIGROSO|DROGA ALUCINOGENA|  I15 - HIPERTENSIO...|    1.0|    0.0|    0.0|    25.0| 71.0|[1.0,0.0,0.0,25.0]|[0.11453396002384...|[0.01378457861968...|      14.0|\n",
      "| 100|                 NO|         PELIGROSO|DROGA ALUCINOGENA|  I20 - ANGINA DE P...|    1.0|    0.0|    0.0|    25.0|  9.0|[1.0,0.0,0.0,25.0]|[0.11453396002384...|[0.01378457861968...|      14.0|\n",
      "| 100|                 NO|         PELIGROSO|DROGA ALUCINOGENA|  I21 - INFARTO AGU...|    1.0|    0.0|    0.0|    25.0| 12.0|[1.0,0.0,0.0,25.0]|[0.11453396002384...|[0.01378457861968...|      14.0|\n",
      "| 100|                 NO|         PELIGROSO|DROGA ALUCINOGENA|  I30 - PERICARDITI...|    1.0|    0.0|    0.0|    25.0| 53.0|[1.0,0.0,0.0,25.0]|[0.11453396002384...|[0.01378457861968...|      14.0|\n",
      "| 100|                 NO|         PELIGROSO|DROGA ALUCINOGENA|  I33 - ENDOCARDITI...|    1.0|    0.0|    0.0|    25.0|  6.0|[1.0,0.0,0.0,25.0]|[0.11453396002384...|[0.01378457861968...|      14.0|\n",
      "| 100|                 NO|         PELIGROSO|DROGA ALUCINOGENA|  I36 - TRASTORNOS ...|    1.0|    0.0|    0.0|    25.0|  0.0|[1.0,0.0,0.0,25.0]|[0.11453396002384...|[0.01378457861968...|      14.0|\n",
      "| 100|                 NO|         PELIGROSO|DROGA ALUCINOGENA|  I40 - MIOCARDITIS...|    1.0|    0.0|    0.0|    25.0| 66.0|[1.0,0.0,0.0,25.0]|[0.11453396002384...|[0.01378457861968...|      14.0|\n",
      "| 100|                 NO|         PELIGROSO|DROGA ALUCINOGENA|  I44 - BLOQUEO AUR...|    1.0|    0.0|    0.0|    25.0| 35.0|[1.0,0.0,0.0,25.0]|[0.11453396002384...|[0.01378457861968...|      14.0|\n",
      "| 100|                 NO|         PELIGROSO|DROGA ALUCINOGENA|  I49 - OTRAS ARRIT...|    1.0|    0.0|    0.0|    25.0|  8.0|[1.0,0.0,0.0,25.0]|[0.11453396002384...|[0.01378457861968...|      14.0|\n",
      "| 100|                 NO|         PELIGROSO|DROGA ALUCINOGENA|  I63 - INFARTO CER...|    1.0|    0.0|    0.0|    25.0| 37.0|[1.0,0.0,0.0,25.0]|[0.11453396002384...|[0.01378457861968...|      14.0|\n",
      "| 100|                 NO|         PELIGROSO|DROGA ALUCINOGENA|  I68 - TRASTORNOS ...|    1.0|    0.0|    0.0|    25.0|  5.0|[1.0,0.0,0.0,25.0]|[0.11453396002384...|[0.01378457861968...|      14.0|\n",
      "| 100|                 NO|         PELIGROSO|DROGA ALUCINOGENA|  I73 - OTRAS ENFER...|    1.0|    0.0|    0.0|    25.0| 70.0|[1.0,0.0,0.0,25.0]|[0.11453396002384...|[0.01378457861968...|      14.0|\n",
      "| 100|                 NO|         PELIGROSO|DROGA ALUCINOGENA|  I74 - EMBOLIA Y T...|    1.0|    0.0|    0.0|    25.0| 39.0|[1.0,0.0,0.0,25.0]|[0.11453396002384...|[0.01378457861968...|      14.0|\n",
      "| 100|                 NO|         PELIGROSO|DROGA ALUCINOGENA|  I78 - ENFERMEDADE...|    1.0|    0.0|    0.0|    25.0| 54.0|[1.0,0.0,0.0,25.0]|[0.11453396002384...|[0.01378457861968...|      14.0|\n",
      "| 100|                 NO|         PELIGROSO|DROGA ALUCINOGENA|  I81 - TROMBOSIS D...|    1.0|    0.0|    0.0|    25.0| 62.0|[1.0,0.0,0.0,25.0]|[0.11453396002384...|[0.01378457861968...|      14.0|\n",
      "| 100|                 NO|         PELIGROSO|DROGA ALUCINOGENA|  I82 - OTRAS EMBOL...|    1.0|    0.0|    0.0|    25.0| 29.0|[1.0,0.0,0.0,25.0]|[0.11453396002384...|[0.01378457861968...|      14.0|\n",
      "+----+-------------------+------------------+-----------------+----------------------+-------+-------+-------+--------+-----+------------------+--------------------+--------------------+----------+\n",
      "only showing top 20 rows\n",
      "\n"
     ]
    }
   ],
   "source": [
    "prediction = lr_model.transform(obj3_test)\n",
    "prediction.select('label', 'prediction', 'probability').show(5)\n",
    "prediction.groupBy(\"label\", \"prediction\").count().show()\n",
    "prediction.show()"
   ]
  },
  {
   "cell_type": "code",
   "execution_count": 28,
   "metadata": {},
   "outputs": [
    {
     "name": "stdout",
     "output_type": "stream",
     "text": [
      "root\n",
      " |-- Edad: string (nullable = true)\n",
      " |-- AntecedentesFamilia: string (nullable = true)\n",
      " |-- RangoGrasaVisceral: string (nullable = true)\n",
      " |-- AdiccionDepresora: string (nullable = true)\n",
      " |-- SubcategoriaEnfermedad: string (nullable = true)\n",
      " |-- ant_idx: double (nullable = false)\n",
      " |-- rgb_idx: double (nullable = false)\n",
      " |-- adc_idx: double (nullable = false)\n",
      " |-- edad_idx: double (nullable = false)\n",
      " |-- label: double (nullable = false)\n",
      " |-- prediction: double (nullable = false)\n",
      "\n"
     ]
    }
   ],
   "source": [
    "from pyspark.sql.functions import round\n",
    "#Exportar datos pronosticados\n",
    "#prediction = prediction.withColumn('probability',round(prediction.probability,2))\n",
    "df_prediction=prediction.drop('features','rawPrediction','probability')\n",
    "df_prediction.coalesce(1).write.option('header',True).csv('prediccion3.csv')\n"
   ]
  },
  {
   "cell_type": "markdown",
   "metadata": {},
   "source": [
    "# Evaluación del modelo de algoritmo"
   ]
  },
  {
   "cell_type": "code",
   "execution_count": 29,
   "metadata": {},
   "outputs": [
    {
     "name": "stdout",
     "output_type": "stream",
     "text": [
      "AUC score is :  0.4779494202089491\n"
     ]
    }
   ],
   "source": [
    "from pyspark.ml.evaluation import BinaryClassificationEvaluator\n",
    "eval_df = BinaryClassificationEvaluator(rawPredictionCol='prediction',\n",
    "                                       labelCol='label')\n",
    "prediction.select('label','prediction')\n",
    "AUC = eval_df.evaluate(prediction)\n",
    "print(\"AUC score is : \",AUC)"
   ]
  },
  {
   "cell_type": "code",
   "execution_count": 30,
   "metadata": {},
   "outputs": [
    {
     "data": {
      "text/plain": [
       "0.011518324607329843"
      ]
     },
     "execution_count": 30,
     "metadata": {},
     "output_type": "execute_result"
    }
   ],
   "source": [
    "from pyspark.ml.evaluation import MulticlassClassificationEvaluator\n",
    "\n",
    "df_accuracy = MulticlassClassificationEvaluator(labelCol=\"label\", metricName=\"accuracy\").evaluate(prediction)\n",
    "df_accuracy"
   ]
  },
  {
   "cell_type": "code",
   "execution_count": 31,
   "metadata": {},
   "outputs": [
    {
     "data": {
      "text/plain": [
       "0.002582026344330823"
      ]
     },
     "execution_count": 31,
     "metadata": {},
     "output_type": "execute_result"
    }
   ],
   "source": [
    "df_precision = MulticlassClassificationEvaluator(labelCol=\"label\", metricName=\"weightedPrecision\").evaluate(prediction)\n",
    "df_precision"
   ]
  },
  {
   "cell_type": "code",
   "execution_count": 32,
   "metadata": {},
   "outputs": [],
   "source": [
    "TN = prediction.filter('prediction = 0 AND label = prediction').count()\n",
    "TP = prediction.filter('prediction = 1 AND label = prediction').count()\n",
    "FN = prediction.filter('prediction = 0 AND label != prediction').count()\n",
    "FP = prediction.filter('prediction = 1 AND label != prediction').count()\n"
   ]
  },
  {
   "cell_type": "code",
   "execution_count": 33,
   "metadata": {},
   "outputs": [
    {
     "name": "stdout",
     "output_type": "stream",
     "text": [
      "0.006160164271047228\n"
     ]
    }
   ],
   "source": [
    "precision = (TN+ TP)/(TN+TP+FN+FP)\n",
    "print(precision)\n"
   ]
  },
  {
   "cell_type": "code",
   "execution_count": null,
   "metadata": {},
   "outputs": [],
   "source": []
  }
 ],
 "metadata": {
  "kernelspec": {
   "display_name": "Python 3 (ipykernel)",
   "language": "python",
   "name": "python3"
  },
  "language_info": {
   "codemirror_mode": {
    "name": "ipython",
    "version": 3
   },
   "file_extension": ".py",
   "mimetype": "text/x-python",
   "name": "python",
   "nbconvert_exporter": "python",
   "pygments_lexer": "ipython3",
   "version": "3.9.12"
  }
 },
 "nbformat": 4,
 "nbformat_minor": 4
}
