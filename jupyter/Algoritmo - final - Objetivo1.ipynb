{
 "cells": [
  {
   "cell_type": "code",
   "execution_count": 70,
   "metadata": {},
   "outputs": [],
   "source": [
    "import findspark\n",
    "findspark.init()"
   ]
  },
  {
   "cell_type": "code",
   "execution_count": 71,
   "metadata": {},
   "outputs": [],
   "source": [
    "import pyspark\n",
    "from pyspark.sql import SparkSession\n",
    "spark = SparkSession.builder.getOrCreate()"
   ]
  },
  {
   "cell_type": "code",
   "execution_count": 72,
   "metadata": {
    "scrolled": true
   },
   "outputs": [],
   "source": [
    "#obj1 = spark.read.csv(\"C:\\data\\FINAL-2\\objetivo1-final.csv\",header=True, inferSchema=True, nullValue=\"NA\")\n",
    "obj1=spark.read.format(\"csv\") \\\n",
    "    .option(\"quote\", \"\") \\\n",
    "    .option(\"escape\", \"\\\"\") \\\n",
    "    .option(\"header\", \"true\") \\\n",
    "    .option(\"multiLine\", \"true\") \\\n",
    "    .option(\"encoding\",\"windows-1252\") \\\n",
    "    .load(\"C:\\data\\FINAL-3\\objetivo1-final.csv\")"
   ]
  },
  {
   "cell_type": "code",
   "execution_count": 73,
   "metadata": {},
   "outputs": [
    {
     "name": "stdout",
     "output_type": "stream",
     "text": [
      "+---+-------+---------------+---------------+------+-----+------+-----------+-------------------+-----------------+----+----------+--------------------+----------------------+\n",
      "| ID|Nombres|ApellidoPaterno|ApellidoMaterno|  Peso|Talla|  Zona|NivelFiebre|AntecedentesFamilia|AdiccionDepresora|Anio|       Mes| CategoriaEnfermedad|SubcategoriaEnfermedad|\n",
      "+---+-------+---------------+---------------+------+-----+------+-----------+-------------------+-----------------+----+----------+--------------------+----------------------+\n",
      "|  1| Elston|        Danihel|         Grioli| 57.82| 1.34|URBANA|         38|                 SI|          NINGUNA|2019|   OCTUBRE|ENFERMEDAD RESPIR...|  J42 - BRONQUITIS ...|\n",
      "|  2|  Abdul|     Grahamslaw|          Lukas| 89.09| 1.85| RURAL|         41|                 SI|       TABAQUISMO|2021|    AGOSTO|ENFERMEDAD RESPIR...|  J91 - DERRAME PLE...|\n",
      "|  3|  Morse|       Dreghorn|      Monkhouse|105.99| 1.58|URBANA|         40|                 NO|       TABAQUISMO|2021|     JUNIO|ENFERMEDAD RESPIR...|  J14 - NEUMONIA DE...|\n",
      "|  4|Armando|       Di Baudi|        Clawley| 104.4| 1.19| RURAL|         41|                 SI|          NINGUNA|2021|     JULIO|ENFERMEDAD RESPIR...|  J67 - NEUMONITIS ...|\n",
      "|  5| Nerita|    Chippendale|       Skettles| 59.29| 1.04| RURAL|         36|                 NO|       TABAQUISMO|2016|    AGOSTO|ENFERMEDAD RESPIR...|  J37 - LARINGITIS ...|\n",
      "|  6|   Bran|     Yellowlees|         Fealey|  76.1| 1.73| RURAL|         38|                 SI|DROGA ALUCINOGENA|2016|   FEBRERO|ENFERMEDAD RESPIR...|  J01 - SINUSITIS A...|\n",
      "|  7|   Romy|          Noods|         Vosper| 73.77| 1.29| RURAL|         41|                 NO|DROGA ALUCINOGENA|2021|     ENERO|ENFERMEDAD RESPIR...|  J32 - SINUSITIS C...|\n",
      "|  8|Edouard|         Rowatt|        McKeney| 76.89| 1.43|URBANA|         39|                 SI|          ALCOHOL|2018|SEPTIEMBRE|ENFERMEDAD RESPIR...|  J96 - INSUFICIENC...|\n",
      "|  9| Floris|        Ramelet|         Skeats|    94| 1.67| RURAL|         40|                 SI|          NINGUNA|2021| DICIEMBRE|ENFERMEDAD RESPIR...|  J62 - NEUMOCONIOS...|\n",
      "| 10| Aubrey|        Elfleet|        Spatari|102.16| 1.47| RURAL|         41|                 SI|       TABAQUISMO|2016|      MAYO|ENFERMEDAD RESPIR...|            J45 - ASMA|\n",
      "+---+-------+---------------+---------------+------+-----+------+-----------+-------------------+-----------------+----+----------+--------------------+----------------------+\n",
      "only showing top 10 rows\n",
      "\n"
     ]
    }
   ],
   "source": [
    "obj1.show(10)"
   ]
  },
  {
   "cell_type": "markdown",
   "metadata": {},
   "source": [
    "# Selección de datos"
   ]
  },
  {
   "cell_type": "code",
   "execution_count": 74,
   "metadata": {},
   "outputs": [
    {
     "name": "stdout",
     "output_type": "stream",
     "text": [
      "+-----------+-------------------+-----------------+----------------------+\n",
      "|NivelFiebre|AntecedentesFamilia|AdiccionDepresora|SubcategoriaEnfermedad|\n",
      "+-----------+-------------------+-----------------+----------------------+\n",
      "|         38|                 SI|          NINGUNA|  J42 - BRONQUITIS ...|\n",
      "|         41|                 SI|       TABAQUISMO|  J91 - DERRAME PLE...|\n",
      "|         40|                 NO|       TABAQUISMO|  J14 - NEUMONIA DE...|\n",
      "|         41|                 SI|          NINGUNA|  J67 - NEUMONITIS ...|\n",
      "|         36|                 NO|       TABAQUISMO|  J37 - LARINGITIS ...|\n",
      "|         38|                 SI|DROGA ALUCINOGENA|  J01 - SINUSITIS A...|\n",
      "|         41|                 NO|DROGA ALUCINOGENA|  J32 - SINUSITIS C...|\n",
      "|         39|                 SI|          ALCOHOL|  J96 - INSUFICIENC...|\n",
      "|         40|                 SI|          NINGUNA|  J62 - NEUMOCONIOS...|\n",
      "|         41|                 SI|       TABAQUISMO|            J45 - ASMA|\n",
      "+-----------+-------------------+-----------------+----------------------+\n",
      "only showing top 10 rows\n",
      "\n",
      "330000\n",
      "root\n",
      " |-- NivelFiebre: string (nullable = true)\n",
      " |-- AntecedentesFamilia: string (nullable = true)\n",
      " |-- AdiccionDepresora: string (nullable = true)\n",
      " |-- SubcategoriaEnfermedad: string (nullable = true)\n",
      "\n"
     ]
    }
   ],
   "source": [
    "\n",
    "#Objetivo 1 - Eliminando columnas que no son deseadas\n",
    "obj1 = obj1.drop('ID','ApellidoPaterno','ApellidoMaterno','Nombres','CategoriaEnfermedad', 'Peso', 'Talla','Departamento','Zona','Mes','Anio')\n",
    "obj1.show(10)\n",
    "print(obj1.count())\n",
    "\n",
    "obj1.printSchema()"
   ]
  },
  {
   "cell_type": "markdown",
   "metadata": {},
   "source": [
    "# Limpieza de datos"
   ]
  },
  {
   "cell_type": "code",
   "execution_count": 75,
   "metadata": {},
   "outputs": [
    {
     "name": "stdout",
     "output_type": "stream",
     "text": [
      "+-----------+-------------------+-----------------+----------------------+\n",
      "|NivelFiebre|AntecedentesFamilia|AdiccionDepresora|SubcategoriaEnfermedad|\n",
      "+-----------+-------------------+-----------------+----------------------+\n",
      "|         38|                 SI|          NINGUNA|  J42 - BRONQUITIS ...|\n",
      "|         41|                 SI|       TABAQUISMO|  J91 - DERRAME PLE...|\n",
      "|         40|                 NO|       TABAQUISMO|  J14 - NEUMONIA DE...|\n",
      "|         41|                 SI|          NINGUNA|  J67 - NEUMONITIS ...|\n",
      "|         36|                 NO|       TABAQUISMO|  J37 - LARINGITIS ...|\n",
      "|         38|                 SI|DROGA ALUCINOGENA|  J01 - SINUSITIS A...|\n",
      "|         41|                 NO|DROGA ALUCINOGENA|  J32 - SINUSITIS C...|\n",
      "|         40|                 SI|          NINGUNA|  J62 - NEUMOCONIOS...|\n",
      "|         41|                 SI|       TABAQUISMO|            J45 - ASMA|\n",
      "|         39|                 SI|          NINGUNA|  J67 - NEUMONITIS ...|\n",
      "+-----------+-------------------+-----------------+----------------------+\n",
      "only showing top 10 rows\n",
      "\n"
     ]
    },
    {
     "data": {
      "text/plain": [
       "221821"
      ]
     },
     "execution_count": 75,
     "metadata": {},
     "output_type": "execute_result"
    }
   ],
   "source": [
    "#Eliminando valores que no corresponden del dataset\n",
    "obj1 = obj1.dropna()\n",
    "obj1 = obj1.filter('NivelFiebre < 45')\n",
    "obj1 = obj1.where((obj1.AdiccionDepresora == 'NINGUNA') | (obj1.AdiccionDepresora == 'TABAQUISMO') | (obj1.AdiccionDepresora == 'DROGA ALUCINOGENA'))\n",
    "obj1.show(10)\n",
    "obj1.count()"
   ]
  },
  {
   "cell_type": "markdown",
   "metadata": {},
   "source": [
    "# Integracion de datos"
   ]
  },
  {
   "cell_type": "code",
   "execution_count": 77,
   "metadata": {},
   "outputs": [],
   "source": [
    "from pyspark.ml.feature import StringIndexer\n",
    "\n",
    "obj1 = StringIndexer(inputCol='NivelFiebre', outputCol= 'fiebre_idx').fit(obj1).transform(obj1)\n",
    "obj1 = StringIndexer(inputCol='AntecedentesFamilia', outputCol= 'ant_idx').fit(obj1).transform(obj1)\n",
    "obj1 = StringIndexer(inputCol='AdiccionDepresora', outputCol= 'adc_idx').fit(obj1).transform(obj1)"
   ]
  },
  {
   "cell_type": "code",
   "execution_count": 78,
   "metadata": {},
   "outputs": [
    {
     "name": "stdout",
     "output_type": "stream",
     "text": [
      "+-----------+-------------------+-----------------+----------------------+----------+-------+-------+\n",
      "|NivelFiebre|AntecedentesFamilia|AdiccionDepresora|SubcategoriaEnfermedad|fiebre_idx|ant_idx|adc_idx|\n",
      "+-----------+-------------------+-----------------+----------------------+----------+-------+-------+\n",
      "|         38|                 SI|          NINGUNA|  J42 - BRONQUITIS ...|       0.0|    1.0|    2.0|\n",
      "|         41|                 SI|       TABAQUISMO|  J91 - DERRAME PLE...|       4.0|    1.0|    0.0|\n",
      "|         40|                 NO|       TABAQUISMO|  J14 - NEUMONIA DE...|       2.0|    0.0|    0.0|\n",
      "|         41|                 SI|          NINGUNA|  J67 - NEUMONITIS ...|       4.0|    1.0|    2.0|\n",
      "|         36|                 NO|       TABAQUISMO|  J37 - LARINGITIS ...|       5.0|    0.0|    0.0|\n",
      "|         38|                 SI|DROGA ALUCINOGENA|  J01 - SINUSITIS A...|       0.0|    1.0|    1.0|\n",
      "|         41|                 NO|DROGA ALUCINOGENA|  J32 - SINUSITIS C...|       4.0|    0.0|    1.0|\n",
      "|         40|                 SI|          NINGUNA|  J62 - NEUMOCONIOS...|       2.0|    1.0|    2.0|\n",
      "|         41|                 SI|       TABAQUISMO|            J45 - ASMA|       4.0|    1.0|    0.0|\n",
      "|         39|                 SI|          NINGUNA|  J67 - NEUMONITIS ...|       3.0|    1.0|    2.0|\n",
      "+-----------+-------------------+-----------------+----------------------+----------+-------+-------+\n",
      "only showing top 10 rows\n",
      "\n"
     ]
    }
   ],
   "source": [
    "obj1.show(10)"
   ]
  },
  {
   "cell_type": "code",
   "execution_count": 83,
   "metadata": {},
   "outputs": [
    {
     "name": "stdout",
     "output_type": "stream",
     "text": [
      "+-----------+-------------------+-----------------+----------------------+----------+-------+-------+-------------+-----+\n",
      "|NivelFiebre|AntecedentesFamilia|AdiccionDepresora|SubcategoriaEnfermedad|fiebre_idx|ant_idx|adc_idx|     features|label|\n",
      "+-----------+-------------------+-----------------+----------------------+----------+-------+-------+-------------+-----+\n",
      "|         38|                 SI|          NINGUNA|  J42 - BRONQUITIS ...|       0.0|    1.0|    2.0|[0.0,1.0,2.0]| 72.0|\n",
      "|         41|                 SI|       TABAQUISMO|  J91 - DERRAME PLE...|       4.0|    1.0|    0.0|[4.0,1.0,0.0]| 50.0|\n",
      "|         40|                 NO|       TABAQUISMO|  J14 - NEUMONIA DE...|       2.0|    0.0|    0.0|[2.0,0.0,0.0]| 47.0|\n",
      "|         41|                 SI|          NINGUNA|  J67 - NEUMONITIS ...|       4.0|    1.0|    2.0|[4.0,1.0,2.0]| 54.0|\n",
      "|         36|                 NO|       TABAQUISMO|  J37 - LARINGITIS ...|       5.0|    0.0|    0.0|[5.0,0.0,0.0]| 27.0|\n",
      "|         38|                 SI|DROGA ALUCINOGENA|  J01 - SINUSITIS A...|       0.0|    1.0|    1.0|[0.0,1.0,1.0]| 56.0|\n",
      "|         41|                 NO|DROGA ALUCINOGENA|  J32 - SINUSITIS C...|       4.0|    0.0|    1.0|[4.0,0.0,1.0]| 62.0|\n",
      "|         40|                 SI|          NINGUNA|  J62 - NEUMOCONIOS...|       2.0|    1.0|    2.0|[2.0,1.0,2.0]| 24.0|\n",
      "|         41|                 SI|       TABAQUISMO|            J45 - ASMA|       4.0|    1.0|    0.0|[4.0,1.0,0.0]| 20.0|\n",
      "|         39|                 SI|          NINGUNA|  J67 - NEUMONITIS ...|       3.0|    1.0|    2.0|[3.0,1.0,2.0]| 54.0|\n",
      "+-----------+-------------------+-----------------+----------------------+----------+-------+-------+-------------+-----+\n",
      "only showing top 10 rows\n",
      "\n"
     ]
    }
   ],
   "source": [
    "obj1 = StringIndexer(inputCol='SubcategoriaEnfermedad', outputCol= 'label').fit(obj1).transform(obj1)\n",
    "obj1.show(10)"
   ]
  },
  {
   "cell_type": "code",
   "execution_count": 79,
   "metadata": {},
   "outputs": [],
   "source": [
    "from pyspark.ml.feature import VectorAssembler\n",
    "\n",
    "assembler = VectorAssembler(inputCols = ['fiebre_idx','ant_idx','adc_idx'],outputCol='features' )\n",
    "obj1 = assembler.transform(obj1)"
   ]
  },
  {
   "cell_type": "code",
   "execution_count": 80,
   "metadata": {},
   "outputs": [
    {
     "name": "stdout",
     "output_type": "stream",
     "text": [
      "+-----------+-------------------+-----------------+----------------------+----------+-------+-------+-------------+\n",
      "|NivelFiebre|AntecedentesFamilia|AdiccionDepresora|SubcategoriaEnfermedad|fiebre_idx|ant_idx|adc_idx|     features|\n",
      "+-----------+-------------------+-----------------+----------------------+----------+-------+-------+-------------+\n",
      "|         38|                 SI|          NINGUNA|  J42 - BRONQUITIS ...|       0.0|    1.0|    2.0|[0.0,1.0,2.0]|\n",
      "|         41|                 SI|       TABAQUISMO|  J91 - DERRAME PLE...|       4.0|    1.0|    0.0|[4.0,1.0,0.0]|\n",
      "|         40|                 NO|       TABAQUISMO|  J14 - NEUMONIA DE...|       2.0|    0.0|    0.0|[2.0,0.0,0.0]|\n",
      "|         41|                 SI|          NINGUNA|  J67 - NEUMONITIS ...|       4.0|    1.0|    2.0|[4.0,1.0,2.0]|\n",
      "|         36|                 NO|       TABAQUISMO|  J37 - LARINGITIS ...|       5.0|    0.0|    0.0|[5.0,0.0,0.0]|\n",
      "|         38|                 SI|DROGA ALUCINOGENA|  J01 - SINUSITIS A...|       0.0|    1.0|    1.0|[0.0,1.0,1.0]|\n",
      "|         41|                 NO|DROGA ALUCINOGENA|  J32 - SINUSITIS C...|       4.0|    0.0|    1.0|[4.0,0.0,1.0]|\n",
      "|         40|                 SI|          NINGUNA|  J62 - NEUMOCONIOS...|       2.0|    1.0|    2.0|[2.0,1.0,2.0]|\n",
      "|         41|                 SI|       TABAQUISMO|            J45 - ASMA|       4.0|    1.0|    0.0|[4.0,1.0,0.0]|\n",
      "|         39|                 SI|          NINGUNA|  J67 - NEUMONITIS ...|       3.0|    1.0|    2.0|[3.0,1.0,2.0]|\n",
      "+-----------+-------------------+-----------------+----------------------+----------+-------+-------+-------------+\n",
      "only showing top 10 rows\n",
      "\n"
     ]
    }
   ],
   "source": [
    "obj1.show(10)"
   ]
  },
  {
   "cell_type": "code",
   "execution_count": 84,
   "metadata": {},
   "outputs": [
    {
     "data": {
      "text/plain": [
       "[176911, 44910]"
      ]
     },
     "execution_count": 84,
     "metadata": {},
     "output_type": "execute_result"
    }
   ],
   "source": [
    "obj1_train, obj1_test = obj1.randomSplit([0.8, 0.2], seed=23)\n",
    "[obj1_train.count(), obj1_test.count()]"
   ]
  },
  {
   "cell_type": "markdown",
   "metadata": {},
   "source": [
    "# Aplicación del modelo de algoritmo"
   ]
  },
  {
   "cell_type": "code",
   "execution_count": 85,
   "metadata": {},
   "outputs": [],
   "source": [
    "from pyspark.ml.classification import DecisionTreeClassifier\n",
    "tree = DecisionTreeClassifier()\n",
    "tree_model = tree.fit(obj1_train)"
   ]
  },
  {
   "cell_type": "code",
   "execution_count": 86,
   "metadata": {},
   "outputs": [
    {
     "name": "stdout",
     "output_type": "stream",
     "text": [
      "+-----+----------+--------------------+\n",
      "|label|prediction|         probability|\n",
      "+-----+----------+--------------------+\n",
      "| 13.0|       0.0|[0.05068650338305...|\n",
      "| 13.0|       0.0|[0.05068650338305...|\n",
      "| 13.0|       0.0|[0.05068650338305...|\n",
      "| 13.0|       0.0|[0.05068650338305...|\n",
      "| 13.0|       0.0|[0.05068650338305...|\n",
      "| 13.0|       0.0|[0.05068650338305...|\n",
      "| 13.0|       0.0|[0.05068650338305...|\n",
      "| 13.0|       0.0|[0.05068650338305...|\n",
      "| 13.0|       0.0|[0.05068650338305...|\n",
      "| 13.0|       0.0|[0.05068650338305...|\n",
      "| 13.0|       0.0|[0.05068650338305...|\n",
      "| 13.0|       0.0|[0.05068650338305...|\n",
      "| 13.0|       0.0|[0.05068650338305...|\n",
      "| 13.0|       0.0|[0.05068650338305...|\n",
      "| 13.0|       0.0|[0.05068650338305...|\n",
      "| 13.0|       0.0|[0.05068650338305...|\n",
      "| 13.0|       0.0|[0.05068650338305...|\n",
      "| 13.0|       0.0|[0.05068650338305...|\n",
      "| 13.0|       0.0|[0.05068650338305...|\n",
      "| 13.0|       0.0|[0.05068650338305...|\n",
      "+-----+----------+--------------------+\n",
      "only showing top 20 rows\n",
      "\n",
      "+-----+----------+-----+\n",
      "|label|prediction|count|\n",
      "+-----+----------+-----+\n",
      "| 62.0|       0.0|  540|\n",
      "|  2.0|       0.0|  603|\n",
      "| 23.0|       0.0|  567|\n",
      "| 74.0|       0.0|  559|\n",
      "| 36.0|       0.0|  592|\n",
      "| 40.0|       0.0|  569|\n",
      "| 27.0|       0.0|  558|\n",
      "| 14.0|       0.0|  591|\n",
      "| 19.0|       0.0|  556|\n",
      "| 32.0|       0.0|  550|\n",
      "| 10.0|       0.0|  600|\n",
      "| 21.0|       0.0|  559|\n",
      "| 13.0|       0.0|  583|\n",
      "|  8.0|       0.0|  604|\n",
      "| 60.0|       0.0|  554|\n",
      "| 65.0|       0.0|  553|\n",
      "|  9.0|       0.0|  609|\n",
      "| 66.0|       0.0|  547|\n",
      "| 39.0|       0.0|  537|\n",
      "| 48.0|       0.0|  544|\n",
      "+-----+----------+-----+\n",
      "only showing top 20 rows\n",
      "\n",
      "+-----------+-------------------+-----------------+----------------------+----------+-------+-------+-------------+-----+--------------------+--------------------+----------+\n",
      "|NivelFiebre|AntecedentesFamilia|AdiccionDepresora|SubcategoriaEnfermedad|fiebre_idx|ant_idx|adc_idx|     features|label|       rawPrediction|         probability|prediction|\n",
      "+-----------+-------------------+-----------------+----------------------+----------+-------+-------+-------------+-----+--------------------+--------------------+----------+\n",
      "|         36|                 NO|DROGA ALUCINOGENA|         DE SITIOS MUL|       5.0|    0.0|    1.0|[5.0,0.0,1.0]| 13.0|[8967.0,2402.0,23...|[0.05068650338305...|       0.0|\n",
      "|         36|                 NO|DROGA ALUCINOGENA|         DE SITIOS MUL|       5.0|    0.0|    1.0|[5.0,0.0,1.0]| 13.0|[8967.0,2402.0,23...|[0.05068650338305...|       0.0|\n",
      "|         36|                 NO|DROGA ALUCINOGENA|         DE SITIOS MUL|       5.0|    0.0|    1.0|[5.0,0.0,1.0]| 13.0|[8967.0,2402.0,23...|[0.05068650338305...|       0.0|\n",
      "|         36|                 NO|DROGA ALUCINOGENA|         DE SITIOS MUL|       5.0|    0.0|    1.0|[5.0,0.0,1.0]| 13.0|[8967.0,2402.0,23...|[0.05068650338305...|       0.0|\n",
      "|         36|                 NO|DROGA ALUCINOGENA|         DE SITIOS MUL|       5.0|    0.0|    1.0|[5.0,0.0,1.0]| 13.0|[8967.0,2402.0,23...|[0.05068650338305...|       0.0|\n",
      "|         36|                 NO|DROGA ALUCINOGENA|         DE SITIOS MUL|       5.0|    0.0|    1.0|[5.0,0.0,1.0]| 13.0|[8967.0,2402.0,23...|[0.05068650338305...|       0.0|\n",
      "|         36|                 NO|DROGA ALUCINOGENA|         DE SITIOS MUL|       5.0|    0.0|    1.0|[5.0,0.0,1.0]| 13.0|[8967.0,2402.0,23...|[0.05068650338305...|       0.0|\n",
      "|         36|                 NO|DROGA ALUCINOGENA|         DE SITIOS MUL|       5.0|    0.0|    1.0|[5.0,0.0,1.0]| 13.0|[8967.0,2402.0,23...|[0.05068650338305...|       0.0|\n",
      "|         36|                 NO|DROGA ALUCINOGENA|         DE SITIOS MUL|       5.0|    0.0|    1.0|[5.0,0.0,1.0]| 13.0|[8967.0,2402.0,23...|[0.05068650338305...|       0.0|\n",
      "|         36|                 NO|DROGA ALUCINOGENA|         DE SITIOS MUL|       5.0|    0.0|    1.0|[5.0,0.0,1.0]| 13.0|[8967.0,2402.0,23...|[0.05068650338305...|       0.0|\n",
      "|         36|                 NO|DROGA ALUCINOGENA|         DE SITIOS MUL|       5.0|    0.0|    1.0|[5.0,0.0,1.0]| 13.0|[8967.0,2402.0,23...|[0.05068650338305...|       0.0|\n",
      "|         36|                 NO|DROGA ALUCINOGENA|         DE SITIOS MUL|       5.0|    0.0|    1.0|[5.0,0.0,1.0]| 13.0|[8967.0,2402.0,23...|[0.05068650338305...|       0.0|\n",
      "|         36|                 NO|DROGA ALUCINOGENA|         DE SITIOS MUL|       5.0|    0.0|    1.0|[5.0,0.0,1.0]| 13.0|[8967.0,2402.0,23...|[0.05068650338305...|       0.0|\n",
      "|         36|                 NO|DROGA ALUCINOGENA|         DE SITIOS MUL|       5.0|    0.0|    1.0|[5.0,0.0,1.0]| 13.0|[8967.0,2402.0,23...|[0.05068650338305...|       0.0|\n",
      "|         36|                 NO|DROGA ALUCINOGENA|         DE SITIOS MUL|       5.0|    0.0|    1.0|[5.0,0.0,1.0]| 13.0|[8967.0,2402.0,23...|[0.05068650338305...|       0.0|\n",
      "|         36|                 NO|DROGA ALUCINOGENA|         DE SITIOS MUL|       5.0|    0.0|    1.0|[5.0,0.0,1.0]| 13.0|[8967.0,2402.0,23...|[0.05068650338305...|       0.0|\n",
      "|         36|                 NO|DROGA ALUCINOGENA|         DE SITIOS MUL|       5.0|    0.0|    1.0|[5.0,0.0,1.0]| 13.0|[8967.0,2402.0,23...|[0.05068650338305...|       0.0|\n",
      "|         36|                 NO|DROGA ALUCINOGENA|         DE SITIOS MUL|       5.0|    0.0|    1.0|[5.0,0.0,1.0]| 13.0|[8967.0,2402.0,23...|[0.05068650338305...|       0.0|\n",
      "|         36|                 NO|DROGA ALUCINOGENA|         DE SITIOS MUL|       5.0|    0.0|    1.0|[5.0,0.0,1.0]| 13.0|[8967.0,2402.0,23...|[0.05068650338305...|       0.0|\n",
      "|         36|                 NO|DROGA ALUCINOGENA|         DE SITIOS MUL|       5.0|    0.0|    1.0|[5.0,0.0,1.0]| 13.0|[8967.0,2402.0,23...|[0.05068650338305...|       0.0|\n",
      "+-----------+-------------------+-----------------+----------------------+----------+-------+-------+-------------+-----+--------------------+--------------------+----------+\n",
      "only showing top 20 rows\n",
      "\n"
     ]
    }
   ],
   "source": [
    "prediction = tree_model.transform(obj1_test)\n",
    "prediction.select('label', 'prediction', 'probability').show()\n",
    "prediction.groupBy(\"label\", \"prediction\").count().show()\n",
    "prediction.show()"
   ]
  },
  {
   "cell_type": "code",
   "execution_count": 38,
   "metadata": {},
   "outputs": [],
   "source": [
    "from pyspark.sql.functions import round\n",
    "#Exportar datos pronosticados\n",
    "#prediction = prediction.withColumn('probability',round(prediction.probability,2))\n",
    "df_prediction=prediction.drop('features','rawPrediction','probability')\n",
    "df_prediction.coalesce(1).write.option('header',True).csv('predicion-obj1.csv')\n"
   ]
  },
  {
   "cell_type": "markdown",
   "metadata": {},
   "source": [
    "# Evaluación del modelo de algoritmo"
   ]
  },
  {
   "cell_type": "code",
   "execution_count": 87,
   "metadata": {},
   "outputs": [
    {
     "data": {
      "text/plain": [
       "0.05036740146960588"
      ]
     },
     "execution_count": 87,
     "metadata": {},
     "output_type": "execute_result"
    }
   ],
   "source": [
    "from pyspark.ml.evaluation import MulticlassClassificationEvaluator\n",
    "\n",
    "df_accuracy = MulticlassClassificationEvaluator(labelCol=\"label\", metricName=\"accuracy\").evaluate(prediction)\n",
    "df_accuracy"
   ]
  },
  {
   "cell_type": "code",
   "execution_count": 88,
   "metadata": {},
   "outputs": [
    {
     "data": {
      "text/plain": [
       "0.0025368751308004565"
      ]
     },
     "execution_count": 88,
     "metadata": {},
     "output_type": "execute_result"
    }
   ],
   "source": [
    "df_precision = MulticlassClassificationEvaluator(labelCol=\"label\", metricName=\"weightedPrecision\").evaluate(prediction)\n",
    "df_precision"
   ]
  },
  {
   "cell_type": "code",
   "execution_count": 89,
   "metadata": {},
   "outputs": [],
   "source": [
    "TN = prediction.filter('prediction = 0 AND label = prediction').count()\n",
    "TP = prediction.filter('prediction = 1 AND label = prediction').count()\n",
    "FN = prediction.filter('prediction = 0 AND label != prediction').count()\n",
    "FP = prediction.filter('prediction = 1 AND label != prediction').count()\n"
   ]
  },
  {
   "cell_type": "code",
   "execution_count": 90,
   "metadata": {},
   "outputs": [
    {
     "name": "stdout",
     "output_type": "stream",
     "text": [
      "0.05036740146960588\n"
     ]
    }
   ],
   "source": [
    "precision = (TN+ TP)/(TN+TP+FN+FP)\n",
    "print(precision)\n"
   ]
  },
  {
   "cell_type": "code",
   "execution_count": null,
   "metadata": {},
   "outputs": [],
   "source": []
  }
 ],
 "metadata": {
  "kernelspec": {
   "display_name": "Python 3 (ipykernel)",
   "language": "python",
   "name": "python3"
  },
  "language_info": {
   "codemirror_mode": {
    "name": "ipython",
    "version": 3
   },
   "file_extension": ".py",
   "mimetype": "text/x-python",
   "name": "python",
   "nbconvert_exporter": "python",
   "pygments_lexer": "ipython3",
   "version": "3.9.12"
  }
 },
 "nbformat": 4,
 "nbformat_minor": 4
}
